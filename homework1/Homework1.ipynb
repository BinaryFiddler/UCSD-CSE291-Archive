{
 "cells": [
  {
   "cell_type": "code",
   "execution_count": null,
   "metadata": {},
   "outputs": [],
   "source": [
    "## Importing Libraries\n",
    "%matplotlib inline\n",
    "import matplotlib.pyplot as plt\n",
    "import tensorflow as tf\n",
    "import numpy as np\n",
    "from tensorflow.examples.tutorials.mnist import input_data"
   ]
  },
  {
   "cell_type": "code",
   "execution_count": null,
   "metadata": {},
   "outputs": [],
   "source": [
    "#Read Data\n",
    "data = input_data.read_data_sets(\".\",one_hot = True)"
   ]
  },
  {
   "cell_type": "code",
   "execution_count": null,
   "metadata": {},
   "outputs": [],
   "source": [
    "#fully connected neural network\n",
    "#Placeholder for input image \n",
    "img = tf.placeholder(tf.float32, [None, 784])\n",
    "\n",
    "#Placeholder for one-hot labels\n",
    "y = tf.placeholder(tf.float32, [None, 10])\n",
    "\n",
    "#Placeholder for labels(For Val/test)\n",
    "y_labels = tf.placeholder(tf.int64, [None])\n",
    "\n",
    "#Weights\n",
    "w1 = tf.get_variable(\"w1\",[784,1024],initializer = tf.random_normal_initializer(stddev=0.02))\n",
    "\n",
    "#Bias\n",
    "b1 = tf.get_variable(\"b1\",[1024],initializer = tf.constant_initializer(0.0))\n",
    "\n",
    "#Linear Layer\n",
    "h1 = tf.matmul(img,w1) + b1\n",
    "#Apply Batchnorm\n",
    "h1 = tf.contrib.layers.batch_norm(h1)\n",
    "#Apply RELU\n",
    "h1 = tf.nn.relu(h1)\n",
    "\n",
    "#Weights\n",
    "w2 = tf.get_variable(\"w2\",[1024,1024],initializer=tf.random_normal_initializer(stddev = 0.02))\n",
    "#bias\n",
    "b2 = tf.get_variable(\"b2\",[1024],initializer=tf.constant_initializer(0.0))\n",
    "\n",
    "#Linear Layer\n",
    "h2 = tf.matmul(h1,w2) + b2\n",
    "#Apply Batchnorm\n",
    "h2 = tf.contrib.layers.batch_norm(h2)\n",
    "#Apply RELU\n",
    "h2 = tf.nn.relu(h2)\n",
    "\n",
    "#Weights\n",
    "w3 = tf.get_variable(\"w3\",[1024,10],initializer=tf.random_normal_initializer(stddev = 0.02))\n",
    "#bias\n",
    "b3 = tf.get_variable(\"b3\",[10],initializer=tf.constant_initializer(0.0))\n",
    "\n",
    "#Linear Layer\n",
    "logits = tf.matmul(h2, w3) + b3\n",
    "\n",
    "#apply Batchnorm\n",
    "logits = tf.contrib.layers.batch_norm(logits)\n",
    "#Apply Softmax\n",
    "output = tf.nn.softmax(logits)\n",
    "output_class = tf.argmax(output,axis=1)"
   ]
  },
  {
   "cell_type": "code",
   "execution_count": null,
   "metadata": {},
   "outputs": [],
   "source": [
    "#Define loss function\n",
    "loss = tf.reduce_mean(tf.nn.softmax_cross_entropy_with_logits(logits = logits, labels = y))\n",
    "\n",
    "#Define Optimizer\n",
    "optim = tf.train.GradientDescentOptimizer(learning_rate = 0.1).minimize(loss)"
   ]
  },
  {
   "cell_type": "code",
   "execution_count": null,
   "metadata": {},
   "outputs": [],
   "source": [
    "#Accuracy\n",
    "correct_labels = tf.equal(output_class, y_labels)\n",
    "accuracy = tf.reduce_mean(tf.cast(correct_labels, tf.float32))"
   ]
  },
  {
   "cell_type": "code",
   "execution_count": null,
   "metadata": {},
   "outputs": [],
   "source": [
    "#running results for fully connected neural network\n",
    "sess = tf.InteractiveSession()\n",
    "tf.global_variables_initializer().run()\n",
    "#Make batches to train\n",
    "num_iter = 1000\n",
    "batch_size = 64\n",
    "loss_val = []\n",
    "iteration = []\n",
    "for i in range(num_iter):\n",
    "    batch_img, batch_y = data.train.next_batch(batch_size)\n",
    "    _, l = sess.run([optim, loss],feed_dict = {img: batch_img , y: batch_y})\n",
    "    loss_val.append(l)\n",
    "    iteration.append(i + 1)\n",
    "labels = np.array([label.argmax() for label in data.test.labels])\n",
    "accuracy = sess.run([accuracy],feed_dict = {img: data.test.images, y: data.test.labels, y_labels: labels})\n",
    "print (\"Accuracy\" ,accuracy)"
   ]
  },
  {
   "cell_type": "code",
   "execution_count": null,
   "metadata": {},
   "outputs": [],
   "source": [
    "## adding the convolutional neural network\n",
    "def weight_variable(shape):\n",
    "    initial = tf.truncated_normal(shape, stddev = 0.1)\n",
    "    return tf.Variable(initial)"
   ]
  },
  {
   "cell_type": "code",
   "execution_count": null,
   "metadata": {},
   "outputs": [],
   "source": [
    "def bias_variable(shape):\n",
    "    initial = tf.constant(0.1, shape=shape)\n",
    "    return tf.Variable(initial)"
   ]
  },
  {
   "cell_type": "code",
   "execution_count": null,
   "metadata": {},
   "outputs": [],
   "source": [
    "def conv2d(x, W):\n",
    "    return tf.nn.conv2d(x, W, strides=[1, 1, 1, 1], padding='SAME')\n",
    "\n",
    "def max_pool_2x2(x):\n",
    "    return tf.nn.max_pool(x, ksize=[1, 2, 2, 1],\n",
    "                        strides=[1, 2, 2, 1], padding='SAME')\n"
   ]
  },
  {
   "cell_type": "code",
   "execution_count": null,
   "metadata": {},
   "outputs": [],
   "source": [
    "#computational graph for convolutional neural network\n",
    "img = tf.placeholder(tf.float32, [None, 784])\n",
    "x_image = tf.reshape(img, [-1, 28, 28, 1])\n",
    "\n",
    "#Placeholder for one-hot labels\n",
    "y = tf.placeholder(tf.float32, [None, 10])\n",
    "\n",
    "#Placeholder for labels(For Val/test)\n",
    "y_labels = tf.placeholder(tf.int64, [None])\n",
    "\n",
    "#fisrt convolutional layer\n",
    "W_conv1 = weight_variable([5, 5, 1, 32])\n",
    "b_conv1 = bias_variable([32])\n",
    "\n",
    "h_conv1 = tf.nn.relu(conv2d(x_image, W_conv1) + b_conv1)\n",
    "h_pool1 = max_pool_2x2(h_conv1)\n",
    "\n",
    "#second convolutional layer\n",
    "W_conv2 = weight_variable([5, 5, 32, 64])\n",
    "b_conv2 = bias_variable([64])\n",
    "\n",
    "h_conv2 = tf.nn.relu(conv2d(h_pool1, W_conv2) + b_conv2)\n",
    "h_pool2 = max_pool_2x2(h_conv2)\n",
    "\n",
    "#fully connected layer\n",
    "W_fc1 = weight_variable([7 * 7 * 64, 1024])\n",
    "b_fc1 = bias_variable([1024])\n",
    "\n",
    "h_pool2_flat = tf.reshape(h_pool2, [-1, 7*7*64])\n",
    "h_fc1 = tf.matmul(h_pool2_flat, W_fc1) + b_fc1\n",
    "#apply batch normalization\n",
    "h_fc1 = tf.contrib.layers.batch_norm(h_fc1)\n",
    "#apply relu\n",
    "h_fc1 = tf.nn.relu(h_fc1)\n",
    "\n",
    "W_fc2 = weight_variable([1024, 10])\n",
    "b_fc2 = bias_variable([10])\n",
    "\n",
    "logits = tf.matmul(h_fc1, W_fc2) + b_fc2\n",
    "\n",
    "#apply Batchnorm\n",
    "logits = tf.contrib.layers.batch_norm(logits)\n",
    "#Apply Softmax\n",
    "output = tf.nn.softmax(logits)\n",
    "output_class = tf.argmax(output,axis=1)"
   ]
  },
  {
   "cell_type": "code",
   "execution_count": null,
   "metadata": {},
   "outputs": [],
   "source": [
    "#Define loss function\n",
    "loss = tf.reduce_mean(tf.nn.softmax_cross_entropy_with_logits(logits = logits, labels = y))\n",
    "\n",
    "#Define Optimizer\n",
    "optim = tf.train.AdamOptimizer(learning_rate=1e-4).minimize(loss)"
   ]
  },
  {
   "cell_type": "code",
   "execution_count": null,
   "metadata": {},
   "outputs": [],
   "source": [
    "#Accuracy\n",
    "correct_labels = tf.equal(output_class, y_labels)\n",
    "accuracy = tf.reduce_mean(tf.cast(correct_labels, tf.float32))"
   ]
  },
  {
   "cell_type": "code",
   "execution_count": null,
   "metadata": {},
   "outputs": [],
   "source": [
    "#running results for convolutional neural network\n",
    "sess = tf.InteractiveSession()\n",
    "tf.global_variables_initializer().run()\n",
    "#Make batches to train\n",
    "num_iter = 1000\n",
    "batch_size = 64\n",
    "loss_val = []\n",
    "iteration = []\n",
    "for i in range(num_iter):\n",
    "    batch_img, batch_y = data.train.next_batch(batch_size)\n",
    "    _, l = sess.run([optim, loss],feed_dict = {img: batch_img , y: batch_y})\n",
    "    loss_val.append(l)\n",
    "    iteration.append(i + 1)\n",
    "labels = np.array([label.argmax() for label in data.test.labels])\n",
    "accuracy = sess.run([accuracy],feed_dict = {img: data.test.images, y: data.test.labels, y_labels: labels})\n",
    "print (\"Accuracy\" ,accuracy)"
   ]
  },
  {
   "cell_type": "code",
   "execution_count": null,
   "metadata": {},
   "outputs": [],
   "source": [
    "#plot loss against iteration\n",
    "plt.plot(iteration, loss_val)\n",
    "plt.ylabel('Loss')\n",
    "plt.xlabel('Iterations')\n",
    "plt.show()"
   ]
  }
 ],
 "metadata": {
  "kernelspec": {
   "display_name": "Python 3",
   "language": "python",
   "name": "python3"
  },
  "language_info": {
   "codemirror_mode": {
    "name": "ipython",
    "version": 3
   },
   "file_extension": ".py",
   "mimetype": "text/x-python",
   "name": "python",
   "nbconvert_exporter": "python",
   "pygments_lexer": "ipython3",
   "version": "3.6.4"
  }
 },
 "nbformat": 4,
 "nbformat_minor": 2
}
