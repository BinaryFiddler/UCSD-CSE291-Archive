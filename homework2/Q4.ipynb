{
 "cells": [
  {
   "cell_type": "code",
   "execution_count": 1,
   "metadata": {},
   "outputs": [
    {
     "name": "stderr",
     "output_type": "stream",
     "text": [
      "/Library/Frameworks/Python.framework/Versions/3.6/lib/python3.6/importlib/_bootstrap.py:219: RuntimeWarning: compiletime version 3.5 of module 'tensorflow.python.framework.fast_tensor_util' does not match runtime version 3.6\n",
      "  return f(*args, **kwds)\n"
     ]
    }
   ],
   "source": [
    "import matplotlib.pyplot as plt\n",
    "import tensorflow as tf\n",
    "import numpy as np\n",
    "from tensorflow.examples.tutorials.mnist import input_data\n",
    "tf.merge_all_summaries = tf.summary.merge_all\n",
    "tf.train.SummaryWriter = tf.summary.FileWriter"
   ]
  },
  {
   "cell_type": "code",
   "execution_count": 2,
   "metadata": {},
   "outputs": [
    {
     "name": "stdout",
     "output_type": "stream",
     "text": [
      "Extracting ./train-images-idx3-ubyte.gz\n",
      "Extracting ./train-labels-idx1-ubyte.gz\n",
      "Extracting ./t10k-images-idx3-ubyte.gz\n",
      "Extracting ./t10k-labels-idx1-ubyte.gz\n"
     ]
    }
   ],
   "source": [
    "data = input_data.read_data_sets(\".\",one_hot = True)"
   ]
  },
  {
   "cell_type": "code",
   "execution_count": 3,
   "metadata": {},
   "outputs": [],
   "source": [
    "#add gaussian noise\n",
    "train_images = data.train.images + np.random.normal(0, 0.05, (55000, 784))"
   ]
  },
  {
   "cell_type": "code",
   "execution_count": 4,
   "metadata": {},
   "outputs": [],
   "source": [
    "def plot_images(img):\n",
    "    plt.imshow(img.reshape(28,28),cmap=\"binary\")\n",
    "    plt.show()"
   ]
  },
  {
   "cell_type": "code",
   "execution_count": 5,
   "metadata": {},
   "outputs": [
    {
     "data": {
      "image/png": "[encoded data removed]",
      "text/plain": [
       "<matplotlib.figure.Figure at 0x1210a0358>"
      ]
     },
     "metadata": {},
     "output_type": "display_data"
    },
    {
     "data": {
      "image/png": "[encoded data removed]",
      "text/plain": [
       "<matplotlib.figure.Figure at 0x123e45b38>"
      ]
     },
     "metadata": {},
     "output_type": "display_data"
    }
   ],
   "source": [
    "plot_images(data.train.images[1,:])\n",
    "plot_images(train_images[1, :])"
   ]
  },
  {
   "cell_type": "code",
   "execution_count": 6,
   "metadata": {},
   "outputs": [],
   "source": [
    "#computational graph for convolutional neural network\n",
    "img = tf.placeholder(tf.float32, [None, 784])\n",
    "x_image = tf.reshape(img, [-1, 28, 28, 1])\n",
    "\n",
    "h11 = tf.keras.layers.Conv2D(16, (3, 3), activation='relu', padding='same')(x_image)\n",
    "h12 = tf.keras.layers.MaxPool2D((2, 2), padding='same')(h11)\n",
    "h21 = tf.keras.layers.Conv2D(8, (3, 3), activation='relu', padding='same')(h12)\n",
    "h22 = tf.keras.layers.MaxPool2D((2, 2), padding='same')(h21)\n",
    "h31 = tf.keras.layers.Conv2D(8, (3, 3), activation='relu', padding='same')(h22)\n",
    "h32 = tf.keras.layers.MaxPool2D((2, 2), padding='same')(h31)\n",
    "h41 = tf.keras.layers.Conv2D(25, (3, 3), activation='relu', padding='same')(h32)\n",
    "encoded = tf.keras.layers.MaxPool2D((2, 2), padding='same')(h41)\n",
    "# the encoded image representation is (2, 2, 25) i.e. 100-dimensional\n",
    "\n",
    "d01 = tf.keras.layers.Conv2D(8, (3, 3), activation='relu', padding='same')(encoded)\n",
    "d02 = tf.keras.layers.UpSampling2D((2, 2))(d01)\n",
    "d11 = tf.keras.layers.Conv2D(8, (3, 3), activation='relu', padding='same')(d02)\n",
    "d12 = tf.keras.layers.UpSampling2D((2, 2))(d11)\n",
    "d21 = tf.keras.layers.Conv2D(8, (3, 3), activation='relu', padding='same')(d12)\n",
    "d22 = tf.keras.layers.UpSampling2D((2, 2))(d21)\n",
    "d31 = tf.keras.layers.Conv2D(16, (3, 3), activation='relu')(d22)\n",
    "d32 = tf.keras.layers.UpSampling2D((2, 2))(d31)\n",
    "decoded = tf.keras.layers.Conv2D(1, (3, 3), activation='sigmoid', padding='same')(d32)\n",
    "\n",
    "denoise = tf.reshape(decoded, [-1, 784])\n",
    "origin = tf.placeholder(tf.float32, [None, 784])"
   ]
  },
  {
   "cell_type": "code",
   "execution_count": 45,
   "metadata": {},
   "outputs": [],
   "source": [
    "loss = tf.reduce_mean(tf.norm(denoise - origin, axis=1))\n",
    "optim = tf.train.GradientDescentOptimizer(learning_rate = 0.02).minimize(loss)"
   ]
  },
  {
   "cell_type": "code",
   "execution_count": 46,
   "metadata": {
    "scrolled": false
   },
   "outputs": [
    {
     "name": "stdout",
     "output_type": "stream",
     "text": [
      "13.466874\n",
      "5.990777\n",
      "5.0298595\n",
      "4.987724\n",
      "4.8502703\n",
      "4.4471083\n",
      "4.5037823\n",
      "4.382946\n",
      "4.2210603\n",
      "4.174017\n",
      "4.1939597\n",
      "4.713501\n",
      "4.173565\n",
      "4.1215944\n",
      "4.143519\n",
      "4.132949\n",
      "4.148452\n",
      "3.9507334\n",
      "3.8343334\n",
      "3.871192\n"
     ]
    }
   ],
   "source": [
    "#running results for convolutional neural network\n",
    "sess = tf.InteractiveSession()\n",
    "tf.global_variables_initializer().run()\n",
    "#Make batches to train\n",
    "num_iter = 20000\n",
    "batch_size = 256\n",
    "loss_val = []\n",
    "iteration = []\n",
    "for i in range(num_iter):\n",
    "    idx = np.random.choice(55000, [batch_size], False)\n",
    "    batch_noise = train_images[idx][:]\n",
    "    batch_origin = data.train.images[idx][:]\n",
    "#     print(np.shape(batch_noise))\n",
    "#     print(np.shape(batch_origin))\n",
    "    _, l = sess.run([optim, loss],feed_dict = {img: batch_noise, origin: batch_origin})\n",
    "    if i % 1000 == 0:\n",
    "        print(l)"
   ]
  },
  {
   "cell_type": "code",
   "execution_count": 54,
   "metadata": {
    "scrolled": false
   },
   "outputs": [
    {
     "name": "stdout",
     "output_type": "stream",
     "text": [
      "original image\n"
     ]
    },
    {
     "data": {
      "image/png": "[encoded data removed]",
      "text/plain": [
       "<matplotlib.figure.Figure at 0x124520a20>"
      ]
     },
     "metadata": {},
     "output_type": "display_data"
    },
    {
     "name": "stdout",
     "output_type": "stream",
     "text": [
      "original image with noise\n"
     ]
    },
    {
     "data": {
      "image/png": "[encoded data removed]",
      "text/plain": [
       "<matplotlib.figure.Figure at 0x12b126f98>"
      ]
     },
     "metadata": {},
     "output_type": "display_data"
    },
    {
     "name": "stdout",
     "output_type": "stream",
     "text": [
      "reconstructed image\n"
     ]
    },
    {
     "data": {
      "image/png": "[encoded data removed]",
      "text/plain": [
       "<matplotlib.figure.Figure at 0x122d15240>"
      ]
     },
     "metadata": {},
     "output_type": "display_data"
    }
   ],
   "source": [
    "idx = [9999]\n",
    "batch_noise = train_images[idx][:]\n",
    "batch_origin = data.train.images[idx][:]\n",
    "batch_denoise1 = sess.run([denoise],feed_dict = {img: batch_noise, origin: batch_origin})\n",
    "\n",
    "print(\"original image\")\n",
    "plot_images(batch_origin[0, :])\n",
    "print(\"original image with noise\")\n",
    "plot_images(batch_noise[0, :])\n",
    "# print(np.shape(batch_denoise))\n",
    "print(\"reconstructed image\")\n",
    "plot_images(batch_denoise1[0][0, :])\n",
    "# print(np.linalg.norm(batch_origin[0, :]))"
   ]
  },
  {
   "cell_type": "code",
   "execution_count": null,
   "metadata": {
    "collapsed": true
   },
   "outputs": [],
   "source": [
    "def upsample_layer(bottom,\n",
    "                       n_channels, name, upscale_factor):\n",
    "\n",
    "        kernel_size = 2*upscale_factor - upscale_factor%2\n",
    "        stride = upscale_factor\n",
    "        strides = [1, stride, stride, 1]\n",
    "        with tf.variable_scope(name):\n",
    "            # Shape of the bottom tensor\n",
    "            in_shape = tf.shape(bottom)\n",
    "\n",
    "            h = ((in_shape[1] - 1) * stride) + 1\n",
    "            w = ((in_shape[2] - 1) * stride) + 1\n",
    "            new_shape = [in_shape[0], h, w, n_channels]\n",
    "            output_shape = tf.stack(new_shape)\n",
    "\n",
    "            filter_shape = [kernel_size, kernel_size, n_channels, n_channels]\n",
    "\n",
    "            weights = get_bilinear_filter(filter_shape,upscale_factor)\n",
    "            deconv = tf.nn.conv2d_transpose(bottom, weights, output_shape,\n",
    "                                            strides=strides, padding='SAME')\n",
    "\n",
    "        return deconv"
   ]
  }
 ],
 "metadata": {
  "kernelspec": {
   "display_name": "Python 3",
   "language": "python",
   "name": "python3"
  },
  "language_info": {
   "codemirror_mode": {
    "name": "ipython",
    "version": 3
   },
   "file_extension": ".py",
   "mimetype": "text/x-python",
   "name": "python",
   "nbconvert_exporter": "python",
   "pygments_lexer": "ipython3",
   "version": "3.6.4"
  }
 },
 "nbformat": 4,
 "nbformat_minor": 2
}
