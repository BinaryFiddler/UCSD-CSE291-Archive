{
 "cells": [
  {
   "cell_type": "code",
   "execution_count": null,
   "metadata": {},
   "outputs": [],
   "source": [
    "import matplotlib.pyplot as plt\n",
    "import tensorflow as tf\n",
    "import numpy as np\n",
    "from tensorflow.examples.tutorials.mnist import input_data\n",
    "tf.merge_all_summaries = tf.summary.merge_all\n",
    "tf.train.SummaryWriter = tf.summary.FileWriter"
   ]
  },
  {
   "cell_type": "code",
   "execution_count": null,
   "metadata": {},
   "outputs": [],
   "source": [
    "data = input_data.read_data_sets(\".\",one_hot = True)"
   ]
  },
  {
   "cell_type": "code",
   "execution_count": 3,
   "metadata": {},
   "outputs": [],
   "source": [
    "#add gaussian noise\n",
    "train_images = data.train.images + np.random.normal(0, 0.05, (55000, 784))"
   ]
  },
  {
   "cell_type": "code",
   "execution_count": 4,
   "metadata": {},
   "outputs": [],
   "source": [
    "def plot_images(img):\n",
    "    plt.imshow(img.reshape(28,28),cmap=\"binary\")\n",
    "    plt.show()"
   ]
  },
  {
   "cell_type": "code",
   "execution_count": 5,
   "metadata": {
    "collapsed": true
   },
   "outputs": [
    {
     "data": {
      "image/png": "[encoded data removed]",
      "text/plain": [
       "<matplotlib.figure.Figure at 0x1208ae3c8>"
      ]
     },
     "metadata": {},
     "output_type": "display_data"
    },
    {
     "data": {
      "image/png": "[encoded data removed]",
      "text/plain": [
       "<matplotlib.figure.Figure at 0x1208ae390>"
      ]
     },
     "metadata": {},
     "output_type": "display_data"
    }
   ],
   "source": [
    "plot_images(data.train.images[1,:])\n",
    "plot_images(train_images[1, :])"
   ]
  },
  {
   "cell_type": "code",
   "execution_count": 6,
   "metadata": {},
   "outputs": [],
   "source": [
    "img = tf.placeholder(tf.float32, [None, 784])\n",
    "x_image = tf.reshape(img, [-1, 28, 28, 1])\n",
    "\n",
    "h11 = tf.keras.layers.Conv2D(16, (3, 3), activation='relu', padding='same')(x_image)\n",
    "h12 = tf.keras.layers.MaxPool2D((2, 2), padding='same')(h11)\n",
    "h21 = tf.keras.layers.Conv2D(8, (3, 3), activation='relu', padding='same')(h12)\n",
    "h22 = tf.keras.layers.MaxPool2D((2, 2), padding='same')(h21)\n",
    "h31 = tf.keras.layers.Conv2D(8, (3, 3), activation='relu', padding='same')(h22)\n",
    "h32 = tf.keras.layers.MaxPool2D((2, 2), padding='same')(h31)\n",
    "h41 = tf.keras.layers.Conv2D(25, (3, 3), activation='relu', padding='same')(h32)\n",
    "encoded = tf.keras.layers.MaxPool2D((2, 2), padding='same')(h41)\n",
    "# the encoded image representation is (2, 2, 25) i.e. 100-dimensional\n",
    "\n",
    "d01 = tf.keras.layers.Conv2D(8, (3, 3), activation='relu', padding='same')(encoded)\n",
    "d02 = tf.keras.layers.UpSampling2D((2, 2))(d01)\n",
    "d11 = tf.keras.layers.Conv2D(8, (3, 3), activation='relu', padding='same')(d02)\n",
    "d12 = tf.keras.layers.UpSampling2D((2, 2))(d11)\n",
    "d21 = tf.keras.layers.Conv2D(8, (3, 3), activation='relu', padding='same')(d12)\n",
    "d22 = tf.keras.layers.UpSampling2D((2, 2))(d21)\n",
    "d31 = tf.keras.layers.Conv2D(16, (3, 3), activation='relu')(d22)\n",
    "d32 = tf.keras.layers.UpSampling2D((2, 2))(d31)\n",
    "decoded = tf.keras.layers.Conv2D(1, (3, 3), activation='sigmoid', padding='same')(d32)\n",
    "\n",
    "denoise = tf.reshape(decoded, [-1, 784])\n",
    "origin = tf.placeholder(tf.float32, [None, 784])"
   ]
  },
  {
   "cell_type": "code",
   "execution_count": 7,
   "metadata": {},
   "outputs": [],
   "source": [
    "loss = tf.reduce_mean(tf.norm(denoise - origin, axis=1))\n",
    "optim = tf.train.GradientDescentOptimizer(learning_rate = 0.02).minimize(loss)"
   ]
  },
  {
   "cell_type": "code",
   "execution_count": 9,
   "metadata": {
    "collapsed": true
   },
   "outputs": [
    {
     "name": "stdout",
     "output_type": "stream",
     "text": [
      "13.465595\n",
      "5.6535783\n",
      "5.0822973\n",
      "4.8420506\n",
      "4.7502375\n",
      "4.550349\n",
      "4.697706\n",
      "4.4125175\n",
      "4.4466343\n",
      "4.290387\n",
      "4.195059\n",
      "4.369527\n",
      "4.1838775\n",
      "4.150566\n",
      "4.1096115\n",
      "4.005748\n",
      "4.3219514\n",
      "4.0217133\n",
      "4.106628\n",
      "3.8643103\n"
     ]
    }
   ],
   "source": [
    "#running results for convolutional neural network\n",
    "sess = tf.InteractiveSession()\n",
    "tf.global_variables_initializer().run()\n",
    "#Make batches to train\n",
    "num_iter = 20000\n",
    "batch_size = 256\n",
    "loss_val = []\n",
    "iteration = []\n",
    "for i in range(num_iter):\n",
    "    idx = np.random.choice(55000, [batch_size], False)\n",
    "    batch_noise = train_images[idx][:]\n",
    "    batch_origin = data.train.images[idx][:]\n",
    "    _, l = sess.run([optim, loss],feed_dict = {img: batch_noise, origin: batch_origin})\n",
    "    if i % 1000 == 0:\n",
    "        print(l)"
   ]
  },
  {
   "cell_type": "code",
   "execution_count": 68,
   "metadata": {
    "collapsed": true
   },
   "outputs": [
    {
     "name": "stdout",
     "output_type": "stream",
     "text": [
      "original test image\n"
     ]
    },
    {
     "data": {
      "image/png": "[encoded data removed]",
      "text/plain": [
       "<matplotlib.figure.Figure at 0x12ad684e0>"
      ]
     },
     "metadata": {},
     "output_type": "display_data"
    },
    {
     "name": "stdout",
     "output_type": "stream",
     "text": [
      "original test image with noise\n"
     ]
    },
    {
     "data": {
      "image/png": "[encoded data removed]",
      "text/plain": [
       "<matplotlib.figure.Figure at 0x1216a44e0>"
      ]
     },
     "metadata": {},
     "output_type": "display_data"
    },
    {
     "name": "stdout",
     "output_type": "stream",
     "text": [
      "reconstructed image\n"
     ]
    },
    {
     "data": {
      "image/png": "[encoded data removed]",
      "text/plain": [
       "<matplotlib.figure.Figure at 0x1233a4f60>"
      ]
     },
     "metadata": {},
     "output_type": "display_data"
    }
   ],
   "source": [
    "# plot result\n",
    "idx = [84]\n",
    "batch_noise = data.test.images[idx][:] + np.random.normal(0, 0.05, (1, 784))\n",
    "batch_origin = data.test.images[idx][:]\n",
    "batch_denoise1 = sess.run([denoise],feed_dict = {img: batch_noise, origin: batch_origin})\n",
    "\n",
    "print(\"original test image\")\n",
    "plot_images(batch_origin[0, :])\n",
    "print(\"original test image with noise\")\n",
    "plot_images(batch_noise[0, :])\n",
    "print(\"reconstructed image\")\n",
    "plot_images(batch_denoise1[0][0, :])"
   ]
  }
 ],
 "metadata": {
  "kernelspec": {
   "display_name": "Python 3",
   "language": "python",
   "name": "python3"
  },
  "language_info": {
   "codemirror_mode": {
    "name": "ipython",
    "version": 3
   },
   "file_extension": ".py",
   "mimetype": "text/x-python",
   "name": "python",
   "nbconvert_exporter": "python",
   "pygments_lexer": "ipython3",
   "version": "3.6.4"
  }
 },
 "nbformat": 4,
 "nbformat_minor": 2
}
