{
 "cells": [
  {
   "cell_type": "code",
   "execution_count": 2,
   "metadata": {},
   "outputs": [
    {
     "name": "stderr",
     "output_type": "stream",
     "text": [
      "/Library/Frameworks/Python.framework/Versions/3.6/lib/python3.6/importlib/_bootstrap.py:219: RuntimeWarning: compiletime version 3.5 of module 'tensorflow.python.framework.fast_tensor_util' does not match runtime version 3.6\n",
      "  return f(*args, **kwds)\n"
     ]
    }
   ],
   "source": [
    "import math\n",
    "import numpy as np\n",
    "import tensorflow as tf"
   ]
  },
  {
   "cell_type": "code",
   "execution_count": 3,
   "metadata": {},
   "outputs": [],
   "source": [
    "# sample n points from circle with radius r\n",
    "def sample_from_circle(r, n):\n",
    "    return [[math.cos(2 * math.pi / n * x) * r, math.sin(2 * math.pi / n * x) * r, 0] for x in range(0,n)]"
   ]
  },
  {
   "cell_type": "code",
   "execution_count": 4,
   "metadata": {},
   "outputs": [],
   "source": [
    "point_set = []\n",
    "n = 500\n",
    "m = 10\n",
    "for r in range(1, 11):\n",
    "    pts = sample_from_circle(r, n)\n",
    "    point_set.append(pts)\n",
    "point_set = np.array(point_set)"
   ]
  },
  {
   "cell_type": "code",
   "execution_count": 5,
   "metadata": {},
   "outputs": [
    {
     "name": "stdout",
     "output_type": "stream",
     "text": [
      "(10, 500, 3)\n"
     ]
    }
   ],
   "source": [
    "print(np.shape(point_set))"
   ]
  },
  {
   "cell_type": "code",
   "execution_count": 6,
   "metadata": {},
   "outputs": [],
   "source": [
    "# total_points = len(point_set)\n",
    "\n",
    "d = tf.placeholder(tf.float32, [m, n, 3])\n",
    "\n",
    "w = tf.get_variable(\"w1\", [3, n], initializer = tf.random_normal_initializer(stddev = 0.1))"
   ]
  },
  {
   "cell_type": "code",
   "execution_count": 7,
   "metadata": {},
   "outputs": [],
   "source": [
    "import tf_emddistance"
   ]
  },
  {
   "cell_type": "code",
   "execution_count": 8,
   "metadata": {
    "scrolled": false
   },
   "outputs": [
    {
     "name": "stdout",
     "output_type": "stream",
     "text": [
      "(10, 500, 3)\n",
      "emd\n"
     ]
    }
   ],
   "source": [
    "x = tf.transpose(w)\n",
    "xs = []\n",
    "for i in range(m):\n",
    "    xs.append(x)\n",
    "\n",
    "w1 = tf.stack(xs)    \n",
    "print((w1.shape))\n",
    "# define optimizer\n",
    "l, idx1, idx2 = tf_emddistance.emd_distance(d, w1)\n",
    "loss = tf.reduce_sum(l)\n",
    "optim = tf.train.GradientDescentOptimizer(0.02).minimize(loss)"
   ]
  },
  {
   "cell_type": "code",
   "execution_count": null,
   "metadata": {
    "scrolled": false
   },
   "outputs": [],
   "source": [
    "sess = tf.InteractiveSession()\n",
    "tf.global_variables_initializer().run()\n",
    "\n",
    "num_iter = 10\n",
    "for i in range(num_iter):\n",
    "    _, l = sess.run([optim, loss], feed_dict = {d: point_set})\n",
    "    print(l)\n",
    "    if i % 10 == 0:\n",
    "        print(l)"
   ]
  },
  {
   "cell_type": "code",
   "execution_count": 1,
   "metadata": {},
   "outputs": [],
   "source": [
    "# idx = np.random.choice(10, [1], False)\n",
    "# print(idx)\n",
    "# point_set[idx][0][:]\n",
    "# print(point_set[0][0])\n",
    "# print(np.shape(point_set[0][:]))"
   ]
  },
  {
   "cell_type": "code",
   "execution_count": null,
   "metadata": {},
   "outputs": [],
   "source": []
  },
  {
   "cell_type": "code",
   "execution_count": null,
   "metadata": {},
   "outputs": [],
   "source": []
  }
 ],
 "metadata": {
  "kernelspec": {
   "display_name": "Python 3",
   "language": "python",
   "name": "python3"
  },
  "language_info": {
   "codemirror_mode": {
    "name": "ipython",
    "version": 3
   },
   "file_extension": ".py",
   "mimetype": "text/x-python",
   "name": "python",
   "nbconvert_exporter": "python",
   "pygments_lexer": "ipython3",
   "version": "3.6.4"
  }
 },
 "nbformat": 4,
 "nbformat_minor": 2
}
