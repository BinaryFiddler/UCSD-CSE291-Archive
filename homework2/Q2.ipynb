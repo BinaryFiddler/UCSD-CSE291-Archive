{
 "cells": [
  {
   "cell_type": "code",
   "execution_count": 1,
   "metadata": {},
   "outputs": [],
   "source": [
    "import pymesh\n",
    "import numpy as np\n",
    "import random\n",
    "import bisect\n",
    "import math\n",
    "from sklearn.metrics import pairwise_distances\n",
    "from scipy.spatial import distance\n",
    "from sklearn.metrics.pairwise import euclidean_distances"
   ]
  },
  {
   "cell_type": "code",
   "execution_count": 2,
   "metadata": {},
   "outputs": [],
   "source": [
    "#load obj files\n",
    "tea_mesh = pymesh.load_mesh(\"teapot.obj\")\n",
    "violin_mesh = pymesh.load_mesh(\"violin_case.obj\")"
   ]
  },
  {
   "cell_type": "code",
   "execution_count": 3,
   "metadata": {},
   "outputs": [],
   "source": [
    "#get vertices and faces\n",
    "tea_vertices = tea_mesh.vertices\n",
    "tea_faces = tea_mesh.faces\n",
    "violin_vertices = violin_mesh.vertices\n",
    "violin_faces = violin_mesh.faces"
   ]
  },
  {
   "cell_type": "code",
   "execution_count": 4,
   "metadata": {},
   "outputs": [],
   "source": [
    "#sample points from triangles uniformly\n",
    "def samplePointsUniformly(area_cumu, faces, vertices):\n",
    "    P = np.zeros(shape=(10000, 3))\n",
    "    for i in range(0, 10000):\n",
    "        r = random.uniform(0, area_cumu[len(area_cumu) - 1])\n",
    "        r1 = random.uniform(0, 1)\n",
    "        r2 = random.uniform(0, 1)\n",
    "        r3 = random.uniform(0, 1)\n",
    "        tri_index = bisect.bisect_left(area_cumu, r)\n",
    "        tri = faces[tri_index]\n",
    "        A = vertices[tri[0]]\n",
    "        B = vertices[tri[1]]\n",
    "        C = vertices[tri[2]]\n",
    "        p = (1 - math.sqrt(r1)) * A + math.sqrt(r1) * (1 - r2) * B + math.sqrt(r1) * r2 * C\n",
    "        P[i] = p\n",
    "    return P"
   ]
  },
  {
   "cell_type": "code",
   "execution_count": 5,
   "metadata": {},
   "outputs": [],
   "source": [
    "#furthest point sampling\n",
    "def total_distances(p, pts):\n",
    "    return ((p - pts)**2).sum(axis=1)\n",
    "\n",
    "def furthestPointSampling(pts, k):\n",
    "    furthest_pts = np.zeros((k, 3))\n",
    "    furthest_pts[0] = pts[np.random.randint(len(pts))]\n",
    "    distances = total_distances(furthest_pts[0], pts)\n",
    "    for i in range(1, k):\n",
    "        furthest_pts[i] = pts[np.argmax(distances)]\n",
    "        distances = np.minimum(distances, total_distances(furthest_pts[i], pts))\n",
    "    return furthest_pts"
   ]
  },
  {
   "cell_type": "code",
   "execution_count": 6,
   "metadata": {},
   "outputs": [],
   "source": [
    "# P1 stores 10000 points sampled from the teapot\n",
    "# D1 is the distance matrix of P1\n",
    "# S1 stores 1000 points sampled from P1\n",
    "tea_mesh.add_attribute(\"face_area\")\n",
    "tea_face_areas = tea_mesh.get_attribute(\"face_area\")\n",
    "tea_face_areas_cumulative = []\n",
    "total_area = 0\n",
    "for i in range(len(tea_face_areas)):\n",
    "    total_area = total_area + tea_face_areas[i]\n",
    "    tea_face_areas_cumulative.append(total_area)\n",
    "P1 = samplePointsUniformly(tea_face_areas_cumulative, tea_faces, tea_vertices)\n",
    "D1 = pairwise_distances(P1)\n",
    "S1 = furthestPointSampling(P1, 1000)"
   ]
  },
  {
   "cell_type": "code",
   "execution_count": 7,
   "metadata": {},
   "outputs": [],
   "source": [
    "# P2 stores 10000 points sampled from the violin case\n",
    "# D2 is the distance matrix of P2\n",
    "# S2 stores 1000 points sampled from P2\n",
    "violin_mesh.add_attribute(\"face_area\")\n",
    "violin_face_areas = violin_mesh.get_attribute(\"face_area\")\n",
    "violin_face_areas_cumulative = []\n",
    "total_area = 0\n",
    "for i in range(len(violin_face_areas)):\n",
    "    total_area = total_area + violin_face_areas[i]\n",
    "    violin_face_areas_cumulative.append(total_area)\n",
    "P2 = samplePointsUniformly(violin_face_areas_cumulative, violin_faces, violin_vertices)\n",
    "D2 = pairwise_distances(P2)\n",
    "S2 = furthestPointSampling(P2, 1000)"
   ]
  },
  {
   "cell_type": "code",
   "execution_count": 8,
   "metadata": {},
   "outputs": [],
   "source": [
    "#save the S1 to new_teapot.obj\n",
    "newTri = pymesh.tetgen()\n",
    "newTri.points = S1\n",
    "newTri.run()\n",
    "new_tea = newTri.mesh\n",
    "pymesh.save_mesh(\"new_teapot.obj\", new_tea, use_float=True)"
   ]
  },
  {
   "cell_type": "code",
   "execution_count": 9,
   "metadata": {},
   "outputs": [],
   "source": [
    "#save the S2 to new_violin_case.obj\n",
    "newTri = pymesh.tetgen()\n",
    "newTri.points = S2\n",
    "newTri.run()\n",
    "new_violin = newTri.mesh\n",
    "pymesh.save_mesh(\"new_violin_case.obj\", new_violin, use_float=True)"
   ]
  },
  {
   "cell_type": "code",
   "execution_count": 10,
   "metadata": {},
   "outputs": [
    {
     "ename": "ModuleNotFoundError",
     "evalue": "No module named 'matplotlib'",
     "output_type": "error",
     "traceback": [
      "\u001b[0;31m---------------------------------------------------------------------------\u001b[0m",
      "\u001b[0;31mModuleNotFoundError\u001b[0m                       Traceback (most recent call last)",
      "\u001b[0;32m<ipython-input-10-a9313f52d4d4>\u001b[0m in \u001b[0;36m<module>\u001b[0;34m()\u001b[0m\n\u001b[0;32m----> 1\u001b[0;31m \u001b[0;32mimport\u001b[0m \u001b[0mmatplotlib\u001b[0m\u001b[0;34m.\u001b[0m\u001b[0mpyplot\u001b[0m \u001b[0;32mas\u001b[0m \u001b[0mplt\u001b[0m\u001b[0;34m\u001b[0m\u001b[0m\n\u001b[0m\u001b[1;32m      2\u001b[0m \u001b[0;32mfrom\u001b[0m \u001b[0mmpl_toolkits\u001b[0m\u001b[0;34m.\u001b[0m\u001b[0mmplot3d\u001b[0m \u001b[0;32mimport\u001b[0m \u001b[0mAxes3D\u001b[0m\u001b[0;34m\u001b[0m\u001b[0m\n\u001b[1;32m      3\u001b[0m \u001b[0mfig\u001b[0m \u001b[0;34m=\u001b[0m \u001b[0mplt\u001b[0m\u001b[0;34m.\u001b[0m\u001b[0mfigure\u001b[0m\u001b[0;34m(\u001b[0m\u001b[0;34m)\u001b[0m\u001b[0;34m\u001b[0m\u001b[0m\n\u001b[1;32m      4\u001b[0m \u001b[0max\u001b[0m \u001b[0;34m=\u001b[0m \u001b[0mfig\u001b[0m\u001b[0;34m.\u001b[0m\u001b[0madd_subplot\u001b[0m\u001b[0;34m(\u001b[0m\u001b[0;36m111\u001b[0m\u001b[0;34m,\u001b[0m \u001b[0mprojection\u001b[0m\u001b[0;34m=\u001b[0m\u001b[0;34m'3d'\u001b[0m\u001b[0;34m)\u001b[0m\u001b[0;34m\u001b[0m\u001b[0m\n\u001b[1;32m      5\u001b[0m \u001b[0mxs\u001b[0m \u001b[0;34m=\u001b[0m \u001b[0;34m[\u001b[0m\u001b[0ms\u001b[0m\u001b[0;34m[\u001b[0m\u001b[0;36m0\u001b[0m\u001b[0;34m]\u001b[0m \u001b[0;32mfor\u001b[0m \u001b[0ms\u001b[0m \u001b[0;32min\u001b[0m \u001b[0mS1\u001b[0m\u001b[0;34m]\u001b[0m\u001b[0;34m\u001b[0m\u001b[0m\n",
      "\u001b[0;31mModuleNotFoundError\u001b[0m: No module named 'matplotlib'"
     ]
    }
   ],
   "source": [
    "import matplotlib.pyplot as plt\n",
    "from mpl_toolkits.mplot3d import Axes3D\n",
    "fig = plt.figure()\n",
    "ax = fig.add_subplot(111, projection='3d')\n",
    "xs = [s[0] for s in S1]\n",
    "ys = [s[1] for s in S1]\n",
    "zs = [s[2] for s in S1]\n",
    "ax.scatter(xs, ys, zs, c='r', marker='o')"
   ]
  },
  {
   "cell_type": "code",
   "execution_count": 16,
   "metadata": {},
   "outputs": [],
   "source": [
    "#Q3\n",
    "from sklearn.metrics.pairwise import euclidean_distances"
   ]
  },
  {
   "cell_type": "code",
   "execution_count": 22,
   "metadata": {},
   "outputs": [],
   "source": [
    "d_origin = euclidean_distances(S1, S2)\n",
    "d = d_origin"
   ]
  },
  {
   "cell_type": "code",
   "execution_count": 20,
   "metadata": {},
   "outputs": [],
   "source": [
    "#step 1 row reduction"
   ]
  },
  {
   "cell_type": "code",
   "execution_count": 21,
   "metadata": {},
   "outputs": [],
   "source": [
    "#step 2 column reduction"
   ]
  },
  {
   "cell_type": "code",
   "execution_count": null,
   "metadata": {},
   "outputs": [],
   "source": []
  }
 ],
 "metadata": {
  "kernelspec": {
   "display_name": "Python 3",
   "language": "python",
   "name": "python3"
  },
  "language_info": {
   "codemirror_mode": {
    "name": "ipython",
    "version": 3
   },
   "file_extension": ".py",
   "mimetype": "text/x-python",
   "name": "python",
   "nbconvert_exporter": "python",
   "pygments_lexer": "ipython3",
   "version": "3.6.4"
  }
 },
 "nbformat": 4,
 "nbformat_minor": 2
}
