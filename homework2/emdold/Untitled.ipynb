{
 "cells": [
  {
   "cell_type": "code",
   "execution_count": 1,
   "metadata": {},
   "outputs": [
    {
     "name": "stderr",
     "output_type": "stream",
     "text": [
      "/Library/Frameworks/Python.framework/Versions/3.6/lib/python3.6/importlib/_bootstrap.py:219: RuntimeWarning: compiletime version 3.5 of module 'tensorflow.python.framework.fast_tensor_util' does not match runtime version 3.6\n",
      "  return f(*args, **kwds)\n"
     ]
    },
    {
     "data": {
      "text/plain": [
       "'\\nToy example\\n\\nBasically pass two tensors of (BATCH_SIZE, CLOUD_SIZE, 3) into the loss function\\n\\n\\nExpected output:\\nloss should be equal to loss3\\n\\nloss2 should be 0\\n'"
      ]
     },
     "execution_count": 1,
     "metadata": {},
     "output_type": "execute_result"
    }
   ],
   "source": [
    "import tf_emddistance\n",
    "import numpy as np\n",
    "import tensorflow as tf\n",
    "\n",
    "'''\n",
    "Toy example\n",
    "\n",
    "Basically pass two tensors of (BATCH_SIZE, CLOUD_SIZE, 3) into the loss function\n",
    "\n",
    "\n",
    "Expected output:\n",
    "loss should be equal to loss3\n",
    "\n",
    "loss2 should be 0\n",
    "'''"
   ]
  },
  {
   "cell_type": "code",
   "execution_count": 20,
   "metadata": {},
   "outputs": [
    {
     "name": "stdout",
     "output_type": "stream",
     "text": [
      "(3, 64, 3)\n",
      "[-0.01841206 -0.00760684 -0.00307414]\n",
      "(3, 64, 3)\n"
     ]
    }
   ],
   "source": [
    "pt_gt=np.ndarray((3,64,3))\n",
    "pt_gt[0,:]=np.reshape(np.loadtxt('latent_0.txt'), (64,3))\n",
    "pt_gt[1,:]=np.reshape(np.loadtxt('latent_0.txt'), (64,3))\n",
    "pt_gt[2,:]=np.reshape(np.loadtxt('latent_0.txt'), (64,3))\n",
    "pt_gt=tf.convert_to_tensor(pt_gt, dtype=tf.float32)\n",
    "print(pt_gt.shape)\n",
    "x_res=np.ndarray((3,64,3))\n",
    "x_res[0,:]=np.reshape(np.loadtxt('latent_1000.txt'), (64,3))\n",
    "x_res[1,:]=np.reshape(np.loadtxt('latent_0.txt'), (64,3))\n",
    "x_res[2,:]=np.reshape(np.loadtxt('latent_1000.txt'), (64,3))\n",
    "print(x_res[0][2])\n",
    "x_res=tf.convert_to_tensor(x_res, dtype=tf.float32)\n",
    "print(x_res.shape)"
   ]
  },
  {
   "cell_type": "code",
   "execution_count": 3,
   "metadata": {},
   "outputs": [
    {
     "name": "stdout",
     "output_type": "stream",
     "text": [
      "emd\n",
      "Tensor(\"EmdDistance:0\", dtype=float32)\n",
      "Tensor(\"EmdDistance:1\", dtype=int32)\n",
      "Tensor(\"EmdDistance:2\", dtype=int32)\n"
     ]
    }
   ],
   "source": [
    "dist,idx1,idx2=tf_emddistance.emd_distance(pt_gt,x_res)\n",
    "print(dist)\n",
    "print(idx1)\n",
    "print(idx2)"
   ]
  },
  {
   "cell_type": "code",
   "execution_count": null,
   "metadata": {},
   "outputs": [],
   "source": []
  },
  {
   "cell_type": "code",
   "execution_count": 4,
   "metadata": {},
   "outputs": [
    {
     "name": "stdout",
     "output_type": "stream",
     "text": [
      "(1, 3, 64)\n"
     ]
    }
   ],
   "source": [
    "sess=tf.Session()\n",
    "dist = sess.run([dist])\n",
    "print(np.shape(dist))"
   ]
  },
  {
   "cell_type": "code",
   "execution_count": 8,
   "metadata": {},
   "outputs": [
    {
     "name": "stdout",
     "output_type": "stream",
     "text": [
      "[1.7791603e-05 1.1590206e-04 4.3862037e-05 2.5905151e-04 7.7407683e-05\n",
      " 3.3670494e-05 8.9990310e-05 5.0701938e-06 2.3399951e-05 1.1476392e-05\n",
      " 2.6547248e-05 2.2949615e-05 5.3111944e-05 8.7019089e-06 4.8743049e-04\n",
      " 1.5410439e-04 5.6643574e-05 2.5046201e-04 1.2161540e-05 8.1859534e-06\n",
      " 2.1037178e-05 1.4696567e-05 1.1191343e-05 1.0586043e-04 4.0641782e-04\n",
      " 1.4869736e-04 1.3868878e-06 2.2321657e-04 7.6308088e-06 1.0352625e-03\n",
      " 8.6233622e-06 2.8616125e-05 2.5064483e-05 1.9479156e-05 1.1104629e-06\n",
      " 4.4051069e-04 4.5845722e-05 1.1607477e-05 7.2648195e-06 3.0988472e-04\n",
      " 3.0747658e-04 1.7491363e-04 3.2516010e-04 2.5965173e-05 2.6844784e-05\n",
      " 5.0554750e-05 4.8014841e-05 2.3405488e-04 3.9422132e-05 5.4781784e-05\n",
      " 1.6857408e-05 5.6575710e-04 1.3631322e-04 4.4334280e-05 3.5350469e-05\n",
      " 7.1939075e-06 1.4158543e-05 2.3299855e-05 2.0506746e-05 6.5334549e-04\n",
      " 2.5954630e-05 1.7694927e-05 5.5091729e-04 1.4641288e-05]\n",
      "[0. 0. 0. 0. 0. 0. 0. 0. 0. 0. 0. 0. 0. 0. 0. 0. 0. 0. 0. 0. 0. 0. 0. 0.\n",
      " 0. 0. 0. 0. 0. 0. 0. 0. 0. 0. 0. 0. 0. 0. 0. 0. 0. 0. 0. 0. 0. 0. 0. 0.\n",
      " 0. 0. 0. 0. 0. 0. 0. 0. 0. 0. 0. 0. 0. 0. 0. 0.]\n",
      "[1.7791603e-05 1.1590206e-04 4.3862037e-05 2.5905151e-04 7.7407683e-05\n",
      " 3.3670494e-05 8.9990310e-05 5.0701938e-06 2.3399951e-05 1.1476392e-05\n",
      " 2.6547248e-05 2.2949615e-05 5.3111944e-05 8.7019089e-06 4.8743049e-04\n",
      " 1.5410439e-04 5.6643574e-05 2.5046201e-04 1.2161540e-05 8.1859534e-06\n",
      " 2.1037178e-05 1.4696567e-05 1.1191343e-05 1.0586043e-04 4.0641782e-04\n",
      " 1.4869736e-04 1.3868878e-06 2.2321657e-04 7.6308088e-06 1.0352625e-03\n",
      " 8.6233622e-06 2.8616125e-05 2.5064483e-05 1.9479156e-05 1.1104629e-06\n",
      " 4.4051069e-04 4.5845722e-05 1.1607477e-05 7.2648195e-06 3.0988472e-04\n",
      " 3.0747658e-04 1.7491363e-04 3.2516010e-04 2.5965173e-05 2.6844784e-05\n",
      " 5.0554750e-05 4.8014841e-05 2.3405488e-04 3.9422132e-05 5.4781784e-05\n",
      " 1.6857408e-05 5.6575710e-04 1.3631322e-04 4.4334280e-05 3.5350469e-05\n",
      " 7.1939075e-06 1.4158543e-05 2.3299855e-05 2.0506746e-05 6.5334549e-04\n",
      " 2.5954630e-05 1.7694927e-05 5.5091729e-04 1.4641288e-05]\n"
     ]
    }
   ],
   "source": [
    "print(dist[0][0])\n",
    "print(dist[0][1])\n",
    "print(dist[0][2])"
   ]
  },
  {
   "cell_type": "code",
   "execution_count": null,
   "metadata": {},
   "outputs": [],
   "source": []
  }
 ],
 "metadata": {
  "kernelspec": {
   "display_name": "Python 3",
   "language": "python",
   "name": "python3"
  },
  "language_info": {
   "codemirror_mode": {
    "name": "ipython",
    "version": 3
   },
   "file_extension": ".py",
   "mimetype": "text/x-python",
   "name": "python",
   "nbconvert_exporter": "python",
   "pygments_lexer": "ipython3",
   "version": "3.6.4"
  }
 },
 "nbformat": 4,
 "nbformat_minor": 2
}
