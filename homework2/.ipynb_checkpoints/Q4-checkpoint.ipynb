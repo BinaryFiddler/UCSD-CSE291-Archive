{
 "cells": [
  {
   "cell_type": "code",
   "execution_count": 1,
   "metadata": {},
   "outputs": [
    {
     "name": "stderr",
     "output_type": "stream",
     "text": [
      "/Library/Frameworks/Python.framework/Versions/3.6/lib/python3.6/importlib/_bootstrap.py:219: RuntimeWarning: compiletime version 3.5 of module 'tensorflow.python.framework.fast_tensor_util' does not match runtime version 3.6\n",
      "  return f(*args, **kwds)\n"
     ]
    }
   ],
   "source": [
    "import matplotlib.pyplot as plt\n",
    "import tensorflow as tf\n",
    "import numpy as np\n",
    "from tensorflow.examples.tutorials.mnist import input_data\n",
    "tf.merge_all_summaries = tf.summary.merge_all\n",
    "tf.train.SummaryWriter = tf.summary.FileWriter"
   ]
  },
  {
   "cell_type": "code",
   "execution_count": 2,
   "metadata": {},
   "outputs": [
    {
     "name": "stdout",
     "output_type": "stream",
     "text": [
      "Extracting ./train-images-idx3-ubyte.gz\n",
      "Extracting ./train-labels-idx1-ubyte.gz\n",
      "Extracting ./t10k-images-idx3-ubyte.gz\n",
      "Extracting ./t10k-labels-idx1-ubyte.gz\n"
     ]
    }
   ],
   "source": [
    "data = input_data.read_data_sets(\".\",one_hot = True)"
   ]
  },
  {
   "cell_type": "code",
   "execution_count": 3,
   "metadata": {},
   "outputs": [],
   "source": [
    "#add gaussian noise\n",
    "train_images = data.train.images + np.random.normal(0, 0.05, (55000, 784))"
   ]
  },
  {
   "cell_type": "code",
   "execution_count": 4,
   "metadata": {},
   "outputs": [],
   "source": [
    "def plot_images(img):\n",
    "    plt.imshow(img.reshape(28,28),cmap=\"binary\")\n",
    "    plt.show()"
   ]
  },
  {
   "cell_type": "code",
   "execution_count": 5,
   "metadata": {},
   "outputs": [
    {
     "data": {
      "image/png": "[encoded data removed]",
      "text/plain": [
       "<matplotlib.figure.Figure at 0x121197358>"
      ]
     },
     "metadata": {},
     "output_type": "display_data"
    },
    {
     "data": {
      "image/png": "[encoded data removed]",
      "text/plain": [
       "<matplotlib.figure.Figure at 0x123f38f60>"
      ]
     },
     "metadata": {},
     "output_type": "display_data"
    }
   ],
   "source": [
    "plot_images(data.train.images[1,:])\n",
    "plot_images(train_images[1, :])"
   ]
  },
  {
   "cell_type": "code",
   "execution_count": 6,
   "metadata": {},
   "outputs": [],
   "source": [
    "#computational graph for convolutional neural network\n",
    "img = tf.placeholder(tf.float32, [None, 784])\n",
    "x_image = tf.reshape(img, [-1, 28, 28, 1])\n",
    "\n",
    "h11 = tf.keras.layers.Conv2D(16, (3, 3), activation='relu', padding='same')(x_image)\n",
    "h12 = tf.keras.layers.MaxPool2D((2, 2), padding='same')(h11)\n",
    "h21 = tf.keras.layers.Conv2D(8, (3, 3), activation='relu', padding='same')(h12)\n",
    "h22 = tf.keras.layers.MaxPool2D((2, 2), padding='same')(h21)\n",
    "h31 = tf.keras.layers.Conv2D(8, (3, 3), activation='relu', padding='same')(h22)\n",
    "encoded = tf.keras.layers.MaxPool2D((2, 2), padding='same')(h31)\n",
    "\n",
    "# at this point the representation is (4, 4, 8) i.e. 128-dimensional\n",
    "\n",
    "d11 = tf.keras.layers.Conv2D(8, (3, 3), activation='relu', padding='same')(encoded)\n",
    "d12 = tf.keras.layers.UpSampling2D((2, 2))(d11)\n",
    "d21 = tf.keras.layers.Conv2D(8, (3, 3), activation='relu', padding='same')(d12)\n",
    "d22 = tf.keras.layers.UpSampling2D((2, 2))(d21)\n",
    "d31 = tf.keras.layers.Conv2D(16, (3, 3), activation='relu')(d22)\n",
    "d32 = tf.keras.layers.UpSampling2D((2, 2))(d31)\n",
    "decoded = tf.keras.layers.Conv2D(1, (3, 3), activation='sigmoid', padding='same')(d32)\n",
    "\n",
    "# autoencoder = Model(input_img, decoded)\n",
    "# autoencoder.compile(optimizer='adadelta', loss='binary_crossentropy')\n",
    "\n",
    "denoise = tf.reshape(decoded, [-1, 784])\n",
    "origin = tf.placeholder(tf.float32, [None, 784])"
   ]
  },
  {
   "cell_type": "code",
   "execution_count": 7,
   "metadata": {},
   "outputs": [],
   "source": [
    "loss = tf.reduce_mean(tf.norm(denoise - origin, axis=1))\n",
    "optim = tf.train.GradientDescentOptimizer(learning_rate = 0.1).minimize(loss)"
   ]
  },
  {
   "cell_type": "code",
   "execution_count": 8,
   "metadata": {
    "scrolled": false
   },
   "outputs": [
    {
     "name": "stdout",
     "output_type": "stream",
     "text": [
      "13.671946\n",
      "7.2969565\n",
      "6.021841\n",
      "5.625125\n",
      "5.77581\n",
      "5.1924872\n",
      "5.0721807\n",
      "5.220728\n",
      "4.6199236\n",
      "4.7816787\n",
      "4.6782665\n",
      "4.8926105\n",
      "4.6533027\n",
      "4.621009\n",
      "4.31766\n",
      "4.643987\n",
      "4.253604\n",
      "4.444026\n",
      "4.135405\n",
      "4.42056\n",
      "4.516498\n",
      "4.0057564\n",
      "4.11244\n",
      "4.194254\n",
      "4.2198496\n",
      "4.2100058\n",
      "4.372156\n",
      "3.865646\n",
      "4.254271\n",
      "3.8790388\n",
      "3.896062\n",
      "4.177148\n",
      "4.0921907\n",
      "3.9441857\n",
      "3.9255452\n",
      "4.4690466\n",
      "4.4087324\n",
      "4.3253384\n",
      "4.1309586\n",
      "3.929874\n",
      "4.4073343\n",
      "3.9835782\n",
      "4.023267\n",
      "3.9910533\n",
      "4.0348625\n",
      "3.8851728\n",
      "4.139648\n",
      "3.9839387\n",
      "3.935643\n",
      "4.0617943\n",
      "4.2296495\n",
      "4.0516634\n",
      "3.8028028\n",
      "3.8835826\n",
      "3.986483\n",
      "3.9649858\n",
      "4.029497\n",
      "3.959466\n",
      "4.062354\n",
      "4.1682014\n",
      "3.9954722\n",
      "4.154952\n",
      "4.106062\n",
      "3.802577\n",
      "3.9956937\n",
      "3.7534778\n",
      "4.000021\n",
      "3.9805274\n",
      "4.091592\n",
      "4.0186925\n",
      "3.6211805\n",
      "3.993866\n",
      "3.9110231\n",
      "3.918026\n",
      "4.043062\n",
      "3.8064535\n",
      "3.6812668\n",
      "4.068639\n",
      "4.0060883\n",
      "3.9777317\n",
      "4.2655\n",
      "3.9070244\n",
      "3.8684816\n",
      "3.9128728\n",
      "3.5651844\n",
      "3.8454459\n",
      "3.9385343\n",
      "3.7953715\n",
      "3.829295\n",
      "3.8918457\n",
      "3.8626423\n",
      "3.8335638\n",
      "3.3714952\n",
      "3.5816395\n",
      "3.7747815\n",
      "4.2173314\n",
      "3.769637\n",
      "3.601766\n",
      "3.9438925\n",
      "3.8114605\n"
     ]
    }
   ],
   "source": [
    "#running results for convolutional neural network\n",
    "sess = tf.InteractiveSession()\n",
    "tf.global_variables_initializer().run()\n",
    "#Make batches to train\n",
    "num_iter = 10000\n",
    "batch_size = 128\n",
    "loss_val = []\n",
    "iteration = []\n",
    "for i in range(num_iter):\n",
    "    idx = np.random.choice(55000, [batch_size], False)\n",
    "    batch_noise = train_images[idx][:]\n",
    "    batch_origin = data.train.images[idx][:]\n",
    "#     print(np.shape(batch_noise))\n",
    "#     print(np.shape(batch_origin))\n",
    "    _, l = sess.run([optim, loss],feed_dict = {img: batch_noise, origin: batch_origin})\n",
    "    if i % 100 == 0:\n",
    "        print(l)"
   ]
  },
  {
   "cell_type": "code",
   "execution_count": 9,
   "metadata": {
    "scrolled": true
   },
   "outputs": [
    {
     "name": "stdout",
     "output_type": "stream",
     "text": [
      "original image\n"
     ]
    },
    {
     "data": {
      "image/png": "[encoded data removed]",
      "text/plain": [
       "<matplotlib.figure.Figure at 0x10891ce80>"
      ]
     },
     "metadata": {},
     "output_type": "display_data"
    },
    {
     "name": "stdout",
     "output_type": "stream",
     "text": [
      "original image with noise\n"
     ]
    },
    {
     "data": {
      "image/png": "[encoded data removed]",
      "text/plain": [
       "<matplotlib.figure.Figure at 0x12ad05630>"
      ]
     },
     "metadata": {},
     "output_type": "display_data"
    },
    {
     "name": "stdout",
     "output_type": "stream",
     "text": [
      "reconstructed image\n"
     ]
    },
    {
     "data": {
      "image/png": "[encoded data removed]",
      "text/plain": [
       "<matplotlib.figure.Figure at 0x12a627128>"
      ]
     },
     "metadata": {},
     "output_type": "display_data"
    }
   ],
   "source": [
    "idx = [12]\n",
    "batch_noise = train_images[idx][:]\n",
    "batch_origin = data.train.images[idx][:]\n",
    "batch_denoise1 = sess.run([denoise],feed_dict = {img: batch_noise, origin: batch_origin})\n",
    "\n",
    "print(\"original image\")\n",
    "plot_images(batch_origin[0, :])\n",
    "print(\"original image with noise\")\n",
    "plot_images(batch_noise[0, :])\n",
    "# print(np.shape(batch_denoise))\n",
    "print(\"reconstructed image\")\n",
    "plot_images(batch_denoise1[0][0, :])\n",
    "# print(np.linalg.norm(batch_origin[0, :]))"
   ]
  },
  {
   "cell_type": "code",
   "execution_count": 47,
   "metadata": {},
   "outputs": [
    {
     "name": "stdout",
     "output_type": "stream",
     "text": [
      "<module 'tensorflow.python.keras' from '/usr/local/lib/python3.6/site-packages/tensorflow/python/keras/__init__.py'>\n"
     ]
    }
   ],
   "source": [
    "print(tf.keras)\n"
   ]
  },
  {
   "cell_type": "code",
   "execution_count": null,
   "metadata": {
    "collapsed": true
   },
   "outputs": [],
   "source": []
  },
  {
   "cell_type": "code",
   "execution_count": null,
   "metadata": {
    "collapsed": true
   },
   "outputs": [],
   "source": []
  },
  {
   "cell_type": "code",
   "execution_count": null,
   "metadata": {
    "collapsed": true
   },
   "outputs": [],
   "source": [
    "def upsample_layer(bottom,\n",
    "                       n_channels, name, upscale_factor):\n",
    "\n",
    "        kernel_size = 2*upscale_factor - upscale_factor%2\n",
    "        stride = upscale_factor\n",
    "        strides = [1, stride, stride, 1]\n",
    "        with tf.variable_scope(name):\n",
    "            # Shape of the bottom tensor\n",
    "            in_shape = tf.shape(bottom)\n",
    "\n",
    "            h = ((in_shape[1] - 1) * stride) + 1\n",
    "            w = ((in_shape[2] - 1) * stride) + 1\n",
    "            new_shape = [in_shape[0], h, w, n_channels]\n",
    "            output_shape = tf.stack(new_shape)\n",
    "\n",
    "            filter_shape = [kernel_size, kernel_size, n_channels, n_channels]\n",
    "\n",
    "            weights = get_bilinear_filter(filter_shape,upscale_factor)\n",
    "            deconv = tf.nn.conv2d_transpose(bottom, weights, output_shape,\n",
    "                                            strides=strides, padding='SAME')\n",
    "\n",
    "        return deconv"
   ]
  }
 ],
 "metadata": {
  "kernelspec": {
   "display_name": "Python 3",
   "language": "python",
   "name": "python3"
  },
  "language_info": {
   "codemirror_mode": {
    "name": "ipython",
    "version": 3
   },
   "file_extension": ".py",
   "mimetype": "text/x-python",
   "name": "python",
   "nbconvert_exporter": "python",
   "pygments_lexer": "ipython3",
   "version": "3.6.4"
  }
 },
 "nbformat": 4,
 "nbformat_minor": 2
}
