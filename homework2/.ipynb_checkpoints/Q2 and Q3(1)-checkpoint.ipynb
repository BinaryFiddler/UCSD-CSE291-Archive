{
 "cells": [
  {
   "cell_type": "code",
   "execution_count": 1,
   "metadata": {},
   "outputs": [],
   "source": [
    "import pymesh\n",
    "import numpy as np\n",
    "import random\n",
    "import bisect\n",
    "import math\n",
    "from sklearn.metrics import pairwise_distances\n",
    "from scipy.spatial import distance\n",
    "from sklearn.metrics.pairwise import euclidean_distances"
   ]
  },
  {
   "cell_type": "code",
   "execution_count": 2,
   "metadata": {},
   "outputs": [],
   "source": [
    "#load obj files\n",
    "tea_mesh = pymesh.load_mesh(\"teapot.obj\")\n",
    "violin_mesh = pymesh.load_mesh(\"violin_case.obj\")"
   ]
  },
  {
   "cell_type": "code",
   "execution_count": 3,
   "metadata": {},
   "outputs": [],
   "source": [
    "#get vertices and faces\n",
    "tea_vertices = tea_mesh.vertices\n",
    "tea_faces = tea_mesh.faces\n",
    "violin_vertices = violin_mesh.vertices\n",
    "violin_faces = violin_mesh.faces"
   ]
  },
  {
   "cell_type": "code",
   "execution_count": 4,
   "metadata": {},
   "outputs": [],
   "source": [
    "#sample points from triangles uniformly\n",
    "def samplePointsUniformly(area_cumu, faces, vertices):\n",
    "    P = np.zeros(shape=(10000, 3))\n",
    "    for i in range(0, 10000):\n",
    "        r = random.uniform(0, area_cumu[len(area_cumu) - 1])\n",
    "        r1 = random.uniform(0, 1)\n",
    "        r2 = random.uniform(0, 1)\n",
    "        r3 = random.uniform(0, 1)\n",
    "        tri_index = bisect.bisect_left(area_cumu, r)\n",
    "        tri = faces[tri_index]\n",
    "        A = vertices[tri[0]]\n",
    "        B = vertices[tri[1]]\n",
    "        C = vertices[tri[2]]\n",
    "        p = (1 - math.sqrt(r1)) * A + math.sqrt(r1) * (1 - r2) * B + math.sqrt(r1) * r2 * C\n",
    "        P[i] = p\n",
    "    return P"
   ]
  },
  {
   "cell_type": "code",
   "execution_count": 5,
   "metadata": {},
   "outputs": [],
   "source": [
    "#furthest point sampling\n",
    "def total_distances(p, pts):\n",
    "    return ((p - pts)**2).sum(axis=1)\n",
    "\n",
    "def furthestPointSampling(pts, k):\n",
    "    furthest_pts = np.zeros((k, 3))\n",
    "    furthest_pts[0] = pts[np.random.randint(len(pts))]\n",
    "    distances = total_distances(furthest_pts[0], pts)\n",
    "    for i in range(1, k):\n",
    "        furthest_pts[i] = pts[np.argmax(distances)]\n",
    "        distances = np.minimum(distances, total_distances(furthest_pts[i], pts))\n",
    "    return furthest_pts"
   ]
  },
  {
   "cell_type": "code",
   "execution_count": 6,
   "metadata": {},
   "outputs": [],
   "source": [
    "# P1 stores 10000 points sampled from the teapot\n",
    "# D1 is the distance matrix of P1\n",
    "# S1 stores 1000 points sampled from P1\n",
    "tea_mesh.add_attribute(\"face_area\")\n",
    "tea_face_areas = tea_mesh.get_attribute(\"face_area\")\n",
    "tea_face_areas_cumulative = []\n",
    "total_area = 0\n",
    "for i in range(len(tea_face_areas)):\n",
    "    total_area = total_area + tea_face_areas[i]\n",
    "    tea_face_areas_cumulative.append(total_area)\n",
    "P1 = samplePointsUniformly(tea_face_areas_cumulative, tea_faces, tea_vertices)\n",
    "D1 = pairwise_distances(P1)\n",
    "S1 = furthestPointSampling(P1, 1000)"
   ]
  },
  {
   "cell_type": "code",
   "execution_count": 7,
   "metadata": {},
   "outputs": [],
   "source": [
    "# P2 stores 10000 points sampled from the violin case\n",
    "# D2 is the distance matrix of P2\n",
    "# S2 stores 1000 points sampled from P2\n",
    "violin_mesh.add_attribute(\"face_area\")\n",
    "violin_face_areas = violin_mesh.get_attribute(\"face_area\")\n",
    "violin_face_areas_cumulative = []\n",
    "total_area = 0\n",
    "for i in range(len(violin_face_areas)):\n",
    "    total_area = total_area + violin_face_areas[i]\n",
    "    violin_face_areas_cumulative.append(total_area)\n",
    "P2 = samplePointsUniformly(violin_face_areas_cumulative, violin_faces, violin_vertices)\n",
    "D2 = pairwise_distances(P2)\n",
    "S2 = furthestPointSampling(P2, 1000)"
   ]
  },
  {
   "cell_type": "code",
   "execution_count": 8,
   "metadata": {},
   "outputs": [],
   "source": [
    "#save the S1 to new_teapot.obj\n",
    "newTri = pymesh.tetgen()\n",
    "newTri.points = S1\n",
    "newTri.run()\n",
    "new_tea = newTri.mesh\n",
    "pymesh.save_mesh(\"new_teapot.obj\", new_tea, use_float=True)"
   ]
  },
  {
   "cell_type": "code",
   "execution_count": 9,
   "metadata": {},
   "outputs": [],
   "source": [
    "#save the S2 to new_violin_case.obj\n",
    "newTri = pymesh.tetgen()\n",
    "newTri.points = S2\n",
    "newTri.run()\n",
    "new_violin = newTri.mesh\n",
    "pymesh.save_mesh(\"new_violin_case.obj\", new_violin, use_float=True)"
   ]
  },
  {
   "cell_type": "code",
   "execution_count": 178,
   "metadata": {},
   "outputs": [],
   "source": [
    "#Q3 Implementation of Hungarian Algorithm\n",
    "# Helper functions for hungarian algorithm\n",
    "def choice_exist_in_all_covered_col(choice, covered_cols):\n",
    "    for c, col in enumerate(covered_cols):\n",
    "        if col:\n",
    "            if not np.any(choice[:, c]):\n",
    "                return False\n",
    "    return True\n",
    "\n",
    "def mark_cols_have_zeros_in_marked_rows(zeros_location, covered_rows, covered_cols):\n",
    "    for r in range(len(zeros_location)):\n",
    "            for c in range(len(zeros_location)):\n",
    "                if zeros_location[r][c] and covered_rows[r] and not covered_cols[c]:\n",
    "                    covered_cols[c] = True\n",
    "\n",
    "def find_col_idx_with_no_choice(choice, covered_cols): \n",
    "    for c, col in enumerate(choice.T):\n",
    "        if covered_cols[c] and not np.any(col):\n",
    "            return c\n",
    "    return -1\n",
    "\n",
    "# find a zero with col_idx_with_no_choice that does not have a row with a choice\n",
    "def find_row_idx_with_no_choice(zeros_location, choice, col_idx_with_no_choice):\n",
    "    for i, row in enumerate(choice):\n",
    "        for j, col in enumerate(row):\n",
    "            if j == col_idx_with_no_choice and zeros_location[i][j] and not np.any(row):\n",
    "                return i\n",
    "    return -1\n",
    "\n",
    "# find a row idx for choice such that the col to change is optimal\n",
    "# otherwise, return random row and col\n",
    "def find_choice_row_col(zeros_location, choice, col_idx_with_no_choice):\n",
    "    row_indices, = np.where(zeros_location[:, col_idx_with_no_choice])\n",
    "    for row_idx in row_indices:\n",
    "        col_indices, = np.where(choice[row_idx])\n",
    "        col_idx = col_indices[0]\n",
    "        if find_row_idx_with_no_choice(zeros_location, choice, col_idx) != -1:\n",
    "            return row_idx, col_idx\n",
    "    random.shuffle(row_indices)\n",
    "    col_idx, = np.where(choice[row_indices[0]])\n",
    "    return row_indices[0], col_idx[0]\n",
    "\n",
    "def cover_zeros(d):\n",
    "    zeros_location = (d == 0)\n",
    "    choice = np.zeros(np.shape(d), dtype=bool)\n",
    "    # Step 3 cover all zeros using minimum number of lines\n",
    "    covered_rows = [False] * np.shape(d)[0]\n",
    "    covered_cols = [False] * np.shape(d)[1]\n",
    "    \n",
    "    while True:\n",
    "        covered_rows = [False] * np.shape(d)[0]\n",
    "        covered_cols = [False] * np.shape(d)[1]\n",
    "        \n",
    "        # mark all rows in which no choice has been made\n",
    "        for r, row in enumerate(choice):\n",
    "            if not np.any(row):\n",
    "                covered_rows[r] = True\n",
    "        \n",
    "        # if no marked row left\n",
    "        if not np.sum(covered_rows):\n",
    "#             print(1)\n",
    "            return covered_rows, covered_cols, choice\n",
    "\n",
    "        # mark all cols not already marked which have zeros in marked rows        \n",
    "        before = np.sum(covered_cols)\n",
    "        mark_cols_have_zeros_in_marked_rows(zeros_location, covered_rows, covered_cols)\n",
    "        \n",
    "        # if no new marked cols\n",
    "        if before == np.sum(covered_cols):\n",
    "#             print(2)\n",
    "            return covered_rows, covered_cols, choice\n",
    "        \n",
    "        # while there is some choice in every marked col\n",
    "        while choice_exist_in_all_covered_col(choice, covered_cols):\n",
    "            # mark all rows not already marked that have choices in marked col\n",
    "            before = np.sum(covered_rows)\n",
    "            for r in range(len(choice)):\n",
    "                for c in range(len(choice)):\n",
    "                    if covered_cols[c] and choice[r][c] and not covered_rows[r]:\n",
    "                        covered_rows[r] = True\n",
    "            \n",
    "            if before == np.sum(covered_rows):\n",
    "#                 print(3)\n",
    "                return covered_rows, covered_cols, choice\n",
    "            \n",
    "            before = np.sum(covered_cols)\n",
    "            # mark all cols not already marked which have zeros in marked rows\n",
    "            mark_cols_have_zeros_in_marked_rows(zeros_location, covered_rows, covered_cols)\n",
    "            \n",
    "            if before == np.sum(covered_cols):\n",
    "#                 print(4)\n",
    "                return covered_rows, covered_cols, choice\n",
    "        \n",
    "        # find a marked col that doesn't have a choice\n",
    "        col_idx_with_no_choice = find_col_idx_with_no_choice(choice, covered_cols)\n",
    "        while col_idx_with_no_choice != -1:\n",
    "            # find a zero with col_idx_with_no_choice that does not have a row with a choice\n",
    "            choice_row_idx = find_row_idx_with_no_choice(zeros_location, choice, col_idx_with_no_choice)\n",
    "            \n",
    "            choice_col_idx = -1\n",
    "            if choice_row_idx == -1:\n",
    "                # find a row to swap\n",
    "                choice_row_idx, choice_col_idx = find_choice_row_col(zeros_location, choice, col_idx_with_no_choice)\n",
    "                \n",
    "                choice[choice_row_idx, choice_col_idx] = False\n",
    "                \n",
    "            choice[choice_row_idx, col_idx_with_no_choice] = True\n",
    "            \n",
    "            col_idx_with_no_choice = choice_col_idx\n",
    "\n",
    "def hungarian(d):\n",
    "    # Step 1:\n",
    "    # Row reduction\n",
    "    for i, row in enumerate(d):\n",
    "        d[i] -= np.min(row)\n",
    "    # Step 2:\n",
    "    # Column reduction\n",
    "    for i, col in enumerate(d.T):\n",
    "            d[:, i] -= np.min(col)\n",
    "        \n",
    "    \n",
    "    while True:\n",
    "        # Step 3 cover all zeros using minimum number of lines\n",
    "        covered_rows, covered_cols, choice = cover_zeros(d)\n",
    "        lines = np.sum(covered_cols) + len(covered_rows) - np.sum(covered_rows)\n",
    "        # step 4 test for optimality\n",
    "        if lines >= np.shape(d)[0]:\n",
    "            return choice\n",
    "        else:\n",
    "            # Step 5 \n",
    "            # Determine the smallest entry not covered by any line. \n",
    "            # Subtract this entry from each uncovered row, \n",
    "            # and then add it to each covered column. \n",
    "            # Return to step 3\n",
    "            covered_rows = np.invert(covered_rows)\n",
    "            \n",
    "            min_entry_not_covered = float(\"inf\")\n",
    "            for r in range(np.shape(d)[0]):\n",
    "                if covered_rows[r]:\n",
    "                    continue\n",
    "                for c in range(np.shape(d)[1]):\n",
    "                    if covered_cols[c]:\n",
    "                        continue\n",
    "                    if d[r][c] < min_entry_not_covered:\n",
    "                        min_entry_not_covered = d[r][c]\n",
    "            # print(min_entry_not_covered)\n",
    "            for r, row in enumerate(d):\n",
    "                if not covered_rows[r]:\n",
    "                    d[r] -= min_entry_not_covered\n",
    "            for c, col in enumerate(d.T):\n",
    "                if covered_cols[c]:\n",
    "                    d[:, c] += min_entry_not_covered\n",
    "            # back to step 3 again\n",
    "            # cover_zeros(d)"
   ]
  },
  {
   "cell_type": "code",
   "execution_count": 205,
   "metadata": {},
   "outputs": [],
   "source": [
    "from sklearn.metrics.pairwise import euclidean_distances\n",
    "\n",
    "# sample just 500 points from previous meshes\n",
    "S1_500 = furthestPointSampling(P1, 100)\n",
    "S2_500 = furthestPointSampling(P2, 100)\n",
    "\n",
    "# computes distance matrix between S1_500 and S2_500\n",
    "d_origin = euclidean_distances(S1_500, S2_500)\n",
    "d = d_origin.copy()"
   ]
  },
  {
   "cell_type": "code",
   "execution_count": 208,
   "metadata": {
    "scrolled": true
   },
   "outputs": [
    {
     "name": "stdout",
     "output_type": "stream",
     "text": [
      "5286.315963211391\n"
     ]
    }
   ],
   "source": [
    "# emd computed by own implementation\n",
    "mask = hungarian(d)\n",
    "emd = np.sum(d_origin * mask)\n",
    "print(emd)"
   ]
  },
  {
   "cell_type": "code",
   "execution_count": 210,
   "metadata": {},
   "outputs": [
    {
     "name": "stdout",
     "output_type": "stream",
     "text": [
      "5286.315963211392\n"
     ]
    }
   ],
   "source": [
    "# emd computed by scipy\n",
    "from scipy.optimize import linear_sum_assignment\n",
    "\n",
    "cost = d_origin.copy()\n",
    "row_ind, col_ind = linear_sum_assignment(cost)\n",
    "print(cost[row_ind, col_ind].sum())"
   ]
  }
 ],
 "metadata": {
  "kernelspec": {
   "display_name": "Python 3",
   "language": "python",
   "name": "python3"
  },
  "language_info": {
   "codemirror_mode": {
    "name": "ipython",
    "version": 3
   },
   "file_extension": ".py",
   "mimetype": "text/x-python",
   "name": "python",
   "nbconvert_exporter": "python",
   "pygments_lexer": "ipython3",
   "version": "3.6.4"
  },
  "widgets": {
   "application/vnd.jupyter.widget-state+json": {
    "state": {},
    "version_major": 2,
    "version_minor": 0
   }
  }
 },
 "nbformat": 4,
 "nbformat_minor": 2
}
