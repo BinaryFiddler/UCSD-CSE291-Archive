{
 "cells": [
  {
   "cell_type": "code",
   "execution_count": 1,
   "metadata": {},
   "outputs": [],
   "source": [
    "from sklearn.metrics.pairwise import euclidean_distances\n",
    "import numpy as np\n",
    "import random"
   ]
  },
  {
   "cell_type": "code",
   "execution_count": 2,
   "metadata": {},
   "outputs": [],
   "source": [
    "d_origin = np.array([[40, 32, 65], [1, 33, 33], [12, 30, 32]])\n",
    "d = d_origin.copy()"
   ]
  },
  {
   "cell_type": "code",
   "execution_count": 3,
   "metadata": {},
   "outputs": [
    {
     "name": "stdout",
     "output_type": "stream",
     "text": [
      "(3, 3)\n",
      "[[40 32 65]\n",
      " [ 1 33 33]\n",
      " [12 30 32]]\n"
     ]
    }
   ],
   "source": [
    "print(np.shape(d))\n",
    "print(d)\n",
    "\n",
    "STAR = 1\n",
    "PRIME = 2\n",
    "COVERED = 1\n",
    "NOT_CONVERED = 0"
   ]
  },
  {
   "cell_type": "code",
   "execution_count": 4,
   "metadata": {},
   "outputs": [],
   "source": [
    "def choice_exist_in_all_covered_col(choice, covered_cols):\n",
    "    for c, col in enumerate(covered_cols):\n",
    "        if col:\n",
    "            if not np.any(choice[:, c]):\n",
    "                return False\n",
    "    return True\n",
    "\n",
    "def mark_cols_have_zeros_in_marked_rows(zeros_location, covered_rows, covered_cols):\n",
    "    for r in range(len(zeros_location)):\n",
    "            for c in range(len(zeros_location)):\n",
    "                if zeros_location[r][c] and covered_rows[r] and not covered_cols[c]:\n",
    "                    covered_cols[c] = True\n",
    "\n",
    "def find_col_idx_with_no_choice(choice, covered_cols): \n",
    "    for c, col in enumerate(choice.T):\n",
    "        if covered_cols[c] and not np.any(col):\n",
    "            return c\n",
    "    return -1\n",
    "\n",
    "# find a zero with col_idx_with_no_choice that does not have a row with a choice\n",
    "def find_row_idx_with_no_choice(zeros_location, choice, col_idx_with_no_choice):\n",
    "    for i, row in enumerate(choice):\n",
    "        for j, col in enumerate(row):\n",
    "            if j == col_idx_with_no_choice and zeros_location[i][j] and not np.any(row):\n",
    "                return i\n",
    "    return -1\n",
    "\n",
    "# find a row idx for choice such that the col to change is optimal\n",
    "# otherwise, return random row and col\n",
    "def find_choice_row_col(zeros_location, choice, col_idx_with_no_choice):\n",
    "    row_indices, = np.where(zeros_location[:, col_idx_with_no_choice])\n",
    "    for row_idx in row_indices:\n",
    "        col_indices, = np.where(choice[row_idx])\n",
    "        col_idx = col_indices[0]\n",
    "        if find_row_idx_with_no_choice(zeros_location, choice, col_idx) != -1:\n",
    "            return row_idx, col_idx\n",
    "    random.shuffle(row_indices)\n",
    "    col_idx, = np.where(choice[row_indices[0]])\n",
    "    return row_indices[0], col_idx[0]\n",
    "\n",
    "def cover_zeros(d):\n",
    "    zeros_location = (d == 0)\n",
    "    choice = np.zeros(np.shape(d), dtype=bool)\n",
    "    # Step 3 cover all zeros using minimum number of lines\n",
    "    covered_rows = [False] * np.shape(d)[0]\n",
    "    covered_cols = [False] * np.shape(d)[1]\n",
    "    \n",
    "    while True:\n",
    "        covered_rows = [False] * np.shape(d)[0]\n",
    "        covered_cols = [False] * np.shape(d)[1]\n",
    "        \n",
    "        # mark all rows in which no choice has been made\n",
    "        for r, row in enumerate(choice):\n",
    "            if not np.any(row):\n",
    "                covered_rows[r] = True\n",
    "        \n",
    "        # if no marked row left\n",
    "        if not np.sum(covered_rows):\n",
    "#             print(1)\n",
    "            return covered_rows, covered_cols, choice\n",
    "\n",
    "        # mark all cols not already marked which have zeros in marked rows        \n",
    "        before = np.sum(covered_cols)\n",
    "        mark_cols_have_zeros_in_marked_rows(zeros_location, covered_rows, covered_cols)\n",
    "        \n",
    "        # if no new marked cols\n",
    "        if before == np.sum(covered_cols):\n",
    "#             print(2)\n",
    "            return covered_rows, covered_cols, choice\n",
    "        \n",
    "        # while there is some choice in every marked col\n",
    "        while choice_exist_in_all_covered_col(choice, covered_cols):\n",
    "            # mark all rows not already marked that have choices in marked col\n",
    "            before = np.sum(covered_rows)\n",
    "            for r in range(len(choice)):\n",
    "                for c in range(len(choice)):\n",
    "                    if covered_cols[c] and choice[r][c] and not covered_rows[r]:\n",
    "                        covered_rows[r] = True\n",
    "            \n",
    "            if before == np.sum(covered_rows):\n",
    "#                 print(3)\n",
    "                return covered_rows, covered_cols, choice\n",
    "            \n",
    "            before = np.sum(covered_cols)\n",
    "            # mark all cols not already marked which have zeros in marked rows\n",
    "            mark_cols_have_zeros_in_marked_rows(zeros_location, covered_rows, covered_cols)\n",
    "            \n",
    "            if before == np.sum(covered_cols):\n",
    "#                 print(4)\n",
    "                return covered_rows, covered_cols, choice\n",
    "        \n",
    "        # find a marked col that doesn't have a choice\n",
    "        col_idx_with_no_choice = find_col_idx_with_no_choice(choice, covered_cols)\n",
    "        while col_idx_with_no_choice != -1:\n",
    "            # find a zero with col_idx_with_no_choice that does not have a row with a choice\n",
    "            choice_row_idx = find_row_idx_with_no_choice(zeros_location, choice, col_idx_with_no_choice)\n",
    "            \n",
    "            choice_col_idx = -1\n",
    "            if choice_row_idx == -1:\n",
    "                # find a row to swap\n",
    "                choice_row_idx, choice_col_idx = find_choice_row_col(zeros_location, choice, col_idx_with_no_choice)\n",
    "                \n",
    "                choice[choice_row_idx, choice_col_idx] = False\n",
    "                \n",
    "            choice[choice_row_idx, col_idx_with_no_choice] = True\n",
    "            \n",
    "            col_idx_with_no_choice = choice_col_idx"
   ]
  },
  {
   "cell_type": "code",
   "execution_count": 5,
   "metadata": {},
   "outputs": [],
   "source": [
    "def hungarian(d):\n",
    "    # Step 1:\n",
    "    # Row reduction\n",
    "    for i, row in enumerate(d):\n",
    "        d[i] -= np.min(row)\n",
    "    # Step 2:\n",
    "    # Column reduction\n",
    "    for i, col in enumerate(d.T):\n",
    "            d[:, i] -= np.min(col)\n",
    "        \n",
    "    \n",
    "    while True:\n",
    "        # Step 3 cover all zeros using minimum number of lines\n",
    "        covered_rows, covered_cols, choice = cover_zeros(d)\n",
    "        lines = np.sum(covered_cols) + len(covered_rows) - np.sum(covered_rows)\n",
    "        # step 4 test for optimality\n",
    "        if lines >= np.shape(d)[0]:\n",
    "            return choice\n",
    "        else:\n",
    "            # Step 5 \n",
    "            # Determine the smallest entry not covered by any line. \n",
    "            # Subtract this entry from each uncovered row, \n",
    "            # and then add it to each covered column. \n",
    "            # Return to step 3\n",
    "            min_entry_not_covered = None\n",
    "            for r in np.shape(d)[0]:\n",
    "                if r in covered_rows:\n",
    "                    continue\n",
    "                    for c in np.shape(d)[1]:\n",
    "                        if c in covered_cols:\n",
    "                            continue\n",
    "                        if d[r][c] < min_entry_not_covered:\n",
    "                            min_entry_not_covered = d[r][c]\n",
    "            for r, row in enumerate(d):\n",
    "                if r not in covered_rows:\n",
    "                    d[r] -= min_entry_not_covered\n",
    "            for c, col in enumerate(d.T):\n",
    "                if c in covered_cols:\n",
    "                    d[:, c] += min_entry_not_covered\n",
    "            # back to step 3 again\n",
    "            # cover_zeros(d)"
   ]
  },
  {
   "cell_type": "code",
   "execution_count": 6,
   "metadata": {},
   "outputs": [
    {
     "name": "stdout",
     "output_type": "stream",
     "text": [
      "[[False  True False]\n",
      " [ True False False]\n",
      " [False False  True]]\n",
      "65\n"
     ]
    }
   ],
   "source": [
    "mask = hungarian(d)\n",
    "total_cost = np.sum(mask * d_origin)\n",
    "print(mask)\n",
    "print(total_cost)"
   ]
  },
  {
   "cell_type": "code",
   "execution_count": null,
   "metadata": {
    "collapsed": true
   },
   "outputs": [],
   "source": []
  }
 ],
 "metadata": {
  "kernelspec": {
   "display_name": "Python 3",
   "language": "python",
   "name": "python3"
  },
  "language_info": {
   "codemirror_mode": {
    "name": "ipython",
    "version": 3
   },
   "file_extension": ".py",
   "mimetype": "text/x-python",
   "name": "python",
   "nbconvert_exporter": "python",
   "pygments_lexer": "ipython3",
   "version": "3.6.4"
  }
 },
 "nbformat": 4,
 "nbformat_minor": 2
}
