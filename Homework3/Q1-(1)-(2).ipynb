{
 "cells": [
  {
   "cell_type": "code",
   "execution_count": 2,
   "metadata": {},
   "outputs": [],
   "source": [
    "import numpy as np\n",
    "import tensorflow as tf\n",
    "import utils\n",
    "import pymesh"
   ]
  },
  {
   "cell_type": "code",
   "execution_count": 3,
   "metadata": {},
   "outputs": [],
   "source": [
    "train_data0 = utils.load_h5(\"ply_data_train0.h5\")\n",
    "category_names = utils.get_category_names()"
   ]
  },
  {
   "cell_type": "code",
   "execution_count": 4,
   "metadata": {},
   "outputs": [
    {
     "name": "stdout",
     "output_type": "stream",
     "text": [
      "[[30]\n",
      " [27]\n",
      " [30]\n",
      " ...\n",
      " [23]\n",
      " [ 9]\n",
      " [33]]\n"
     ]
    }
   ],
   "source": [
    "point_cloud0 = train_data0[0]\n",
    "labels0 = train_data0[1]\n",
    "print(labels0)"
   ]
  },
  {
   "cell_type": "code",
   "execution_count": 5,
   "metadata": {},
   "outputs": [
    {
     "data": {
      "text/plain": [
       "(40,)"
      ]
     },
     "execution_count": 5,
     "metadata": {},
     "output_type": "execute_result"
    }
   ],
   "source": [
    "np.shape(point_cloud0[0])\n",
    "np.shape(category_names)"
   ]
  },
  {
   "cell_type": "code",
   "execution_count": 6,
   "metadata": {},
   "outputs": [],
   "source": [
    "#Q1(a) visualize a few objects from the dataset\n",
    "new_tri = pymesh.tetgen()\n",
    "new_tri.points = point_cloud0[0]\n",
    "new_tri.run()\n",
    "obj = new_tri.mesh\n",
    "pymesh.save_mesh(\"exp1.obj\", obj, use_float=True)\n",
    "\n",
    "new_tri.points = point_cloud0[10]\n",
    "new_tri.run()\n",
    "obj = new_tri.mesh\n",
    "pymesh.save_mesh(\"exp2.obj\", obj, use_float=True)\n",
    "\n",
    "new_tri.points = point_cloud0[100]\n",
    "new_tri.run()\n",
    "obj = new_tri.mesh\n",
    "pymesh.save_mesh(\"exp3.obj\", obj, use_float=True)"
   ]
  },
  {
   "cell_type": "code",
   "execution_count": 7,
   "metadata": {},
   "outputs": [
    {
     "name": "stdout",
     "output_type": "stream",
     "text": [
      "sofa\n",
      "range_hood\n",
      "bookshelf\n"
     ]
    }
   ],
   "source": [
    "print(category_names[labels0[0][0]])\n",
    "print(category_names[labels0[10][0]])\n",
    "print(category_names[labels0[100][0]])"
   ]
  },
  {
   "cell_type": "code",
   "execution_count": 8,
   "metadata": {},
   "outputs": [],
   "source": [
    "import math"
   ]
  },
  {
   "cell_type": "code",
   "execution_count": 9,
   "metadata": {},
   "outputs": [],
   "source": [
    "# only rotate against y axis\n",
    "def rotate(pt_cloud, angle):\n",
    "    R = np.array([[math.cos(angle), 0, math.sin(angle)], [0, 1, 0], [-math.sin(angle), 0, math.cos(angle)]])\n",
    "    rotated_pt_cloud = []\n",
    "    for p in pt_cloud:\n",
    "        rotated_pt_cloud.append((np.matmul(R, p)))\n",
    "    return np.array(rotated_pt_cloud)"
   ]
  },
  {
   "cell_type": "code",
   "execution_count": 10,
   "metadata": {},
   "outputs": [],
   "source": [
    "def jitter(pt_cloud):\n",
    "    pt_cloud = pt_cloud + np.random.normal(0, 0.02, (2048, 3))\n",
    "    return pt_cloud"
   ]
  }
 ],
 "metadata": {
  "kernelspec": {
   "display_name": "Python 3",
   "language": "python",
   "name": "python3"
  },
  "language_info": {
   "codemirror_mode": {
    "name": "ipython",
    "version": 3
   },
   "file_extension": ".py",
   "mimetype": "text/x-python",
   "name": "python",
   "nbconvert_exporter": "python",
   "pygments_lexer": "ipython3",
   "version": "3.6.4"
  }
 },
 "nbformat": 4,
 "nbformat_minor": 2
}
